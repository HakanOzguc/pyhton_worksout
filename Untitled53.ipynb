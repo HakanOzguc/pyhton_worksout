{
  "nbformat": 4,
  "nbformat_minor": 0,
  "metadata": {
    "colab": {
      "name": "Untitled53.ipynb",
      "provenance": [],
      "authorship_tag": "ABX9TyOF/EUvqZm6sYrO0qq0Dd/7",
      "include_colab_link": true
    },
    "kernelspec": {
      "name": "python3",
      "display_name": "Python 3"
    },
    "language_info": {
      "name": "python"
    }
  },
  "cells": [
    {
      "cell_type": "markdown",
      "metadata": {
        "id": "view-in-github",
        "colab_type": "text"
      },
      "source": [
        "<a href=\"https://colab.research.google.com/github/HakanOzguc/pyhton_worksout/blob/main/Untitled53.ipynb\" target=\"_parent\"><img src=\"https://colab.research.google.com/assets/colab-badge.svg\" alt=\"Open In Colab\"/></a>"
      ]
    },
    {
      "cell_type": "code",
      "metadata": {
        "colab": {
          "base_uri": "https://localhost:8080/",
          "height": 128
        },
        "id": "mF6bEIMMSlPC",
        "outputId": "eab756e0-56df-423b-8c3e-dcf30e453fae"
      },
      "source": [
        "print (f'welcome {'name[0:2]\n",
        "\n",
        "N489b<Y>?8;<=>?@AB"
      ],
      "execution_count": null,
      "outputs": [
        {
          "output_type": "error",
          "ename": "SyntaxError",
          "evalue": "ignored",
          "traceback": [
            "\u001b[0;36m  File \u001b[0;32m\"<ipython-input-2-a1999df26cd0>\"\u001b[0;36m, line \u001b[0;32m1\u001b[0m\n\u001b[0;31m    cart []\u001b[0m\n\u001b[0m          ^\u001b[0m\n\u001b[0;31mSyntaxError\u001b[0m\u001b[0;31m:\u001b[0m invalid syntax\n"
          ]
        }
      ]
    },
    {
      "cell_type": "code",
      "metadata": {
        "colab": {
          "base_uri": "https://localhost:8080/"
        },
        "id": "DS7JTHOgW0ls",
        "outputId": "e8221dd4-28ee-4cc7-8ca1-afbceea2e946"
      },
      "source": [
        "a = 'merhaba dünya'\n",
        "print (list (a))\n",
        "print (len (a))\n",
        "\n",
        "set (a.replace(' ', ''))\n",
        "a = a.replace (' ', '')\n",
        "print (len (a))\n",
        "\n",
        "for i in \n",
        "\n"
      ],
      "execution_count": null,
      "outputs": [
        {
          "output_type": "stream",
          "name": "stdout",
          "text": [
            "['m', 'e', 'r', 'h', 'a', 'b', 'a', ' ', 'd', 'ü', 'n', 'y', 'a']\n",
            "13\n",
            "12\n"
          ]
        }
      ]
    },
    {
      "cell_type": "code",
      "metadata": {
        "id": "Ecv_wVakSn2S"
      },
      "source": [
        ""
      ],
      "execution_count": null,
      "outputs": []
    }
  ]
}